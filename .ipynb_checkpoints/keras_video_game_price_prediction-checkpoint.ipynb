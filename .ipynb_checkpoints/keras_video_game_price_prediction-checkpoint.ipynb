{
 "cells": [
  {
   "cell_type": "code",
   "execution_count": 5,
   "metadata": {},
   "outputs": [],
   "source": [
    "import pandas as pd\n",
    "from sklearn.preprocessing import MinMaxScaler\n",
    "\n",
    "import pandas as pd\n",
    "from keras.models import Sequential\n",
    "from keras.layers import *"
   ]
  },
  {
   "cell_type": "markdown",
   "metadata": {},
   "source": [
    "### Loading and Scaling the data"
   ]
  },
  {
   "cell_type": "code",
   "execution_count": 6,
   "metadata": {},
   "outputs": [
    {
     "name": "stdout",
     "output_type": "stream",
     "text": [
      "Note: total_earnings values were scaled by multiplying by 0.0000036968 and adding -0.115913\n"
     ]
    },
    {
     "name": "stderr",
     "output_type": "stream",
     "text": [
      "/Library/anaconda3/lib/python3.7/site-packages/sklearn/preprocessing/data.py:323: DataConversionWarning: Data with input dtype int64, float64 were all converted to float64 by MinMaxScaler.\n",
      "  return self.partial_fit(X, y)\n"
     ]
    }
   ],
   "source": [
    "# Load training data set from CSV file\n",
    "training_data_df = pd.read_csv(\"sales_data_training.csv\")\n",
    "\n",
    "# Load testing data set from CSV file\n",
    "test_data_df = pd.read_csv(\"sales_data_test.csv\")\n",
    "\n",
    "# Data needs to be scaled to a small range like 0 to 1 for the neural\n",
    "# network to work well.\n",
    "scaler = MinMaxScaler(feature_range=(0, 1))\n",
    "\n",
    "# Scale both the training inputs and outputs\n",
    "scaled_training = scaler.fit_transform(training_data_df)\n",
    "scaled_testing = scaler.transform(test_data_df)\n",
    "\n",
    "# Print out the adjustment that the scaler applied to the total_earnings column of data\n",
    "print(\"Note: total_earnings values were scaled by multiplying by {:.10f} and adding {:.6f}\".format(scaler.scale_[8], scaler.min_[8]))\n"
   ]
  },
  {
   "cell_type": "markdown",
   "metadata": {},
   "source": [
    "### Save scaled data dataframes to new CSV files"
   ]
  },
  {
   "cell_type": "code",
   "execution_count": 8,
   "metadata": {},
   "outputs": [],
   "source": [
    "# Create new pandas DataFrame objects from the scaled data\n",
    "scaled_training_df = pd.DataFrame(scaled_training, columns=training_data_df.columns.values)\n",
    "scaled_testing_df = pd.DataFrame(scaled_testing, columns=test_data_df.columns.values)\n",
    "\n",
    "# Save scaled data dataframes to new CSV files\n",
    "scaled_training_df.to_csv(\"sales_data_training_scaled.csv\", index=False)\n",
    "scaled_testing_df.to_csv(\"sales_data_testing_scaled.csv\", index=False)"
   ]
  },
  {
   "cell_type": "code",
   "execution_count": 9,
   "metadata": {},
   "outputs": [],
   "source": [
    "training_data_df = pd.read_csv(\"sales_data_training_scaled.csv\")\n",
    "\n",
    "X = training_data_df.drop('total_earnings', axis=1).values\n",
    "Y = training_data_df[['total_earnings']].values"
   ]
  },
  {
   "cell_type": "markdown",
   "metadata": {},
   "source": [
    "\n",
    "#### How to decide input_dim = 9 as we have 9 col that we will be using as input \n",
    "- 'critic_rating', 'is_action', 'is_exclusive_to_us', \n",
    "- 'is_portable','is_role_playing', 'is_sequel', \n",
    "- 'is_sports', 'suitable_for_kids','total_earnings'"
   ]
  },
  {
   "cell_type": "code",
   "execution_count": 10,
   "metadata": {},
   "outputs": [
    {
     "data": {
      "text/plain": [
       "Index(['critic_rating', 'is_action', 'is_exclusive_to_us', 'is_portable',\n",
       "       'is_role_playing', 'is_sequel', 'is_sports', 'suitable_for_kids',\n",
       "       'total_earnings', 'unit_price'],\n",
       "      dtype='object')"
      ]
     },
     "execution_count": 10,
     "metadata": {},
     "output_type": "execute_result"
    }
   ],
   "source": [
    "training_data_df.columns"
   ]
  },
  {
   "cell_type": "markdown",
   "metadata": {},
   "source": [
    "### Define the model"
   ]
  },
  {
   "cell_type": "code",
   "execution_count": 11,
   "metadata": {},
   "outputs": [],
   "source": [
    "model = Sequential()\n",
    "model.add(Dense(50, input_dim=9, activation='relu'))\n",
    "model.add(Dense(100, activation='relu'))\n",
    "model.add(Dense(50, activation='relu'))\n",
    "model.add(Dense(1, activation='linear'))\n",
    "model.compile(loss=\"mean_squared_error\", optimizer=\"adam\")"
   ]
  },
  {
   "cell_type": "markdown",
   "metadata": {},
   "source": [
    "### Train the model"
   ]
  },
  {
   "cell_type": "code",
   "execution_count": 12,
   "metadata": {},
   "outputs": [
    {
     "name": "stdout",
     "output_type": "stream",
     "text": [
      "WARNING:tensorflow:From /Library/anaconda3/lib/python3.7/site-packages/keras/backend/tensorflow_backend.py:977: The name tf.assign_add is deprecated. Please use tf.compat.v1.assign_add instead.\n",
      "\n",
      "WARNING:tensorflow:From /Library/anaconda3/lib/python3.7/site-packages/keras/backend/tensorflow_backend.py:964: The name tf.assign is deprecated. Please use tf.compat.v1.assign instead.\n",
      "\n",
      "Epoch 1/50\n",
      " - 0s - loss: 0.0193\n",
      "Epoch 2/50\n",
      " - 0s - loss: 0.0036\n",
      "Epoch 3/50\n",
      " - 0s - loss: 0.0012\n",
      "Epoch 4/50\n",
      " - 0s - loss: 4.8109e-04\n",
      "Epoch 5/50\n",
      " - 0s - loss: 2.9934e-04\n",
      "Epoch 6/50\n",
      " - 0s - loss: 1.9218e-04\n",
      "Epoch 7/50\n",
      " - 0s - loss: 1.4528e-04\n",
      "Epoch 8/50\n",
      " - 0s - loss: 1.3976e-04\n",
      "Epoch 9/50\n",
      " - 0s - loss: 1.2449e-04\n",
      "Epoch 10/50\n",
      " - 0s - loss: 8.0543e-05\n",
      "Epoch 11/50\n",
      " - 0s - loss: 6.4718e-05\n",
      "Epoch 12/50\n",
      " - 0s - loss: 5.4895e-05\n",
      "Epoch 13/50\n",
      " - 0s - loss: 5.0849e-05\n",
      "Epoch 14/50\n",
      " - 0s - loss: 4.6776e-05\n",
      "Epoch 15/50\n",
      " - 0s - loss: 4.3468e-05\n",
      "Epoch 16/50\n",
      " - 0s - loss: 5.3632e-05\n",
      "Epoch 17/50\n",
      " - 0s - loss: 3.8956e-05\n",
      "Epoch 18/50\n",
      " - 0s - loss: 4.2162e-05\n",
      "Epoch 19/50\n",
      " - 0s - loss: 4.3886e-05\n",
      "Epoch 20/50\n",
      " - 0s - loss: 6.4703e-05\n",
      "Epoch 21/50\n",
      " - 0s - loss: 3.6170e-05\n",
      "Epoch 22/50\n",
      " - 0s - loss: 3.8175e-05\n",
      "Epoch 23/50\n",
      " - 0s - loss: 3.1535e-05\n",
      "Epoch 24/50\n",
      " - 0s - loss: 3.7348e-05\n",
      "Epoch 25/50\n",
      " - 0s - loss: 2.7559e-05\n",
      "Epoch 26/50\n",
      " - 0s - loss: 2.9926e-05\n",
      "Epoch 27/50\n",
      " - 0s - loss: 2.6929e-05\n",
      "Epoch 28/50\n",
      " - 0s - loss: 2.8307e-05\n",
      "Epoch 29/50\n",
      " - 0s - loss: 3.7724e-05\n",
      "Epoch 30/50\n",
      " - 0s - loss: 3.9784e-05\n",
      "Epoch 31/50\n",
      " - 0s - loss: 4.1254e-05\n",
      "Epoch 32/50\n",
      " - 0s - loss: 2.4382e-05\n",
      "Epoch 33/50\n",
      " - 0s - loss: 2.7594e-05\n",
      "Epoch 34/50\n",
      " - 0s - loss: 4.7978e-05\n",
      "Epoch 35/50\n",
      " - 0s - loss: 3.4014e-05\n",
      "Epoch 36/50\n",
      " - 0s - loss: 2.5168e-05\n",
      "Epoch 37/50\n",
      " - 0s - loss: 2.0113e-05\n",
      "Epoch 38/50\n",
      " - 0s - loss: 2.2333e-05\n",
      "Epoch 39/50\n",
      " - 0s - loss: 2.5199e-05\n",
      "Epoch 40/50\n",
      " - 0s - loss: 2.3600e-05\n",
      "Epoch 41/50\n",
      " - 0s - loss: 2.2432e-05\n",
      "Epoch 42/50\n",
      " - 0s - loss: 2.0825e-05\n",
      "Epoch 43/50\n",
      " - 0s - loss: 2.7354e-05\n",
      "Epoch 44/50\n",
      " - 0s - loss: 2.7898e-05\n",
      "Epoch 45/50\n",
      " - 0s - loss: 2.2319e-05\n",
      "Epoch 46/50\n",
      " - 0s - loss: 2.2333e-05\n",
      "Epoch 47/50\n",
      " - 0s - loss: 2.3083e-05\n",
      "Epoch 48/50\n",
      " - 0s - loss: 8.3156e-05\n",
      "Epoch 49/50\n",
      " - 0s - loss: 6.0630e-05\n",
      "Epoch 50/50\n",
      " - 0s - loss: 8.3465e-05\n"
     ]
    },
    {
     "data": {
      "text/plain": [
       "<keras.callbacks.History at 0x13ee56c88>"
      ]
     },
     "execution_count": 12,
     "metadata": {},
     "output_type": "execute_result"
    }
   ],
   "source": [
    "model.fit(\n",
    "    X,\n",
    "    Y,\n",
    "    epochs=50,\n",
    "    shuffle=True,\n",
    "    verbose=2\n",
    ")"
   ]
  },
  {
   "cell_type": "markdown",
   "metadata": {},
   "source": [
    "### Load the separate test data set"
   ]
  },
  {
   "cell_type": "code",
   "execution_count": 16,
   "metadata": {},
   "outputs": [
    {
     "name": "stdout",
     "output_type": "stream",
     "text": [
      "The mean squared error (MSE) for the test data set is: 0.00023354980279691518\n",
      "0.00023354980279691518\n"
     ]
    }
   ],
   "source": [
    "test_data_df = pd.read_csv(\"sales_data_testing_scaled.csv\")\n",
    "\n",
    "X_test = test_data_df.drop('total_earnings', axis=1).values\n",
    "Y_test = test_data_df[['total_earnings']].values\n",
    "\n",
    "test_error_rate = model.evaluate(X_test, Y_test, verbose=0)\n",
    "print(\"The mean squared error (MSE) for the test data set is: {}\".format(test_error_rate))"
   ]
  },
  {
   "cell_type": "code",
   "execution_count": null,
   "metadata": {},
   "outputs": [],
   "source": []
  }
 ],
 "metadata": {
  "kernelspec": {
   "display_name": "Python 3",
   "language": "python",
   "name": "python3"
  },
  "language_info": {
   "codemirror_mode": {
    "name": "ipython",
    "version": 3
   },
   "file_extension": ".py",
   "mimetype": "text/x-python",
   "name": "python",
   "nbconvert_exporter": "python",
   "pygments_lexer": "ipython3",
   "version": "3.7.3"
  }
 },
 "nbformat": 4,
 "nbformat_minor": 2
}
