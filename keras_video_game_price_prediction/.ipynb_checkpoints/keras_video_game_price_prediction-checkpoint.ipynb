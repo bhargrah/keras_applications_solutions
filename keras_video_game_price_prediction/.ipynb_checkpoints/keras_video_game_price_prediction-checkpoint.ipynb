{
 "cells": [
  {
   "cell_type": "code",
   "execution_count": 1,
   "metadata": {},
   "outputs": [
    {
     "name": "stderr",
     "output_type": "stream",
     "text": [
      "Using TensorFlow backend.\n"
     ]
    }
   ],
   "source": [
    "import pandas as pd\n",
    "from sklearn.preprocessing import MinMaxScaler\n",
    "\n",
    "import pandas as pd\n",
    "from keras.models import Sequential\n",
    "from keras.models import load_model\n",
    "from keras.layers import *"
   ]
  },
  {
   "cell_type": "markdown",
   "metadata": {},
   "source": [
    "### Loading and Scaling the data"
   ]
  },
  {
   "cell_type": "code",
   "execution_count": 2,
   "metadata": {},
   "outputs": [
    {
     "name": "stdout",
     "output_type": "stream",
     "text": [
      "Note: total_earnings values were scaled by multiplying by 0.0000036968 and adding -0.115913\n"
     ]
    },
    {
     "name": "stderr",
     "output_type": "stream",
     "text": [
      "/Library/anaconda3/lib/python3.7/site-packages/sklearn/preprocessing/data.py:323: DataConversionWarning: Data with input dtype int64, float64 were all converted to float64 by MinMaxScaler.\n",
      "  return self.partial_fit(X, y)\n"
     ]
    }
   ],
   "source": [
    "# Load training data set from CSV file\n",
    "training_data_df = pd.read_csv(\"sales_data_training.csv\")\n",
    "\n",
    "# Load testing data set from CSV file\n",
    "test_data_df = pd.read_csv(\"sales_data_test.csv\")\n",
    "\n",
    "# Data needs to be scaled to a small range like 0 to 1 for the neural\n",
    "# network to work well.\n",
    "scaler = MinMaxScaler(feature_range=(0, 1))\n",
    "\n",
    "# Scale both the training inputs and outputs\n",
    "scaled_training = scaler.fit_transform(training_data_df)\n",
    "scaled_testing = scaler.transform(test_data_df)\n",
    "\n",
    "# Print out the adjustment that the scaler applied to the total_earnings column of data\n",
    "print(\"Note: total_earnings values were scaled by multiplying by {:.10f} and adding {:.6f}\".format(scaler.scale_[8], scaler.min_[8]))\n"
   ]
  },
  {
   "cell_type": "markdown",
   "metadata": {},
   "source": [
    "### Save scaled data dataframes to new CSV files"
   ]
  },
  {
   "cell_type": "code",
   "execution_count": 3,
   "metadata": {},
   "outputs": [],
   "source": [
    "# Create new pandas DataFrame objects from the scaled data\n",
    "scaled_training_df = pd.DataFrame(scaled_training, columns=training_data_df.columns.values)\n",
    "scaled_testing_df = pd.DataFrame(scaled_testing, columns=test_data_df.columns.values)\n",
    "\n",
    "# Save scaled data dataframes to new CSV files\n",
    "scaled_training_df.to_csv(\"sales_data_training_scaled.csv\", index=False)\n",
    "scaled_testing_df.to_csv(\"sales_data_testing_scaled.csv\", index=False)"
   ]
  },
  {
   "cell_type": "code",
   "execution_count": 4,
   "metadata": {},
   "outputs": [],
   "source": [
    "training_data_df = pd.read_csv(\"sales_data_training_scaled.csv\")\n",
    "\n",
    "X = training_data_df.drop('total_earnings', axis=1).values\n",
    "Y = training_data_df[['total_earnings']].values"
   ]
  },
  {
   "cell_type": "markdown",
   "metadata": {},
   "source": [
    "\n",
    "#### How to decide input_dim = 9 as we have 9 col that we will be using as input \n",
    "- 'critic_rating', 'is_action', 'is_exclusive_to_us', \n",
    "- 'is_portable','is_role_playing', 'is_sequel', \n",
    "- 'is_sports', 'suitable_for_kids','total_earnings'"
   ]
  },
  {
   "cell_type": "code",
   "execution_count": 5,
   "metadata": {},
   "outputs": [
    {
     "data": {
      "text/plain": [
       "Index(['critic_rating', 'is_action', 'is_exclusive_to_us', 'is_portable',\n",
       "       'is_role_playing', 'is_sequel', 'is_sports', 'suitable_for_kids',\n",
       "       'total_earnings', 'unit_price'],\n",
       "      dtype='object')"
      ]
     },
     "execution_count": 5,
     "metadata": {},
     "output_type": "execute_result"
    }
   ],
   "source": [
    "training_data_df.columns"
   ]
  },
  {
   "cell_type": "markdown",
   "metadata": {},
   "source": [
    "### Define the model"
   ]
  },
  {
   "cell_type": "code",
   "execution_count": 6,
   "metadata": {},
   "outputs": [
    {
     "name": "stdout",
     "output_type": "stream",
     "text": [
      "WARNING:tensorflow:From /Library/anaconda3/lib/python3.7/site-packages/keras/backend/tensorflow_backend.py:68: The name tf.get_default_graph is deprecated. Please use tf.compat.v1.get_default_graph instead.\n",
      "\n",
      "WARNING:tensorflow:From /Library/anaconda3/lib/python3.7/site-packages/keras/backend/tensorflow_backend.py:508: The name tf.placeholder is deprecated. Please use tf.compat.v1.placeholder instead.\n",
      "\n",
      "WARNING:tensorflow:From /Library/anaconda3/lib/python3.7/site-packages/keras/backend/tensorflow_backend.py:3837: The name tf.random_uniform is deprecated. Please use tf.random.uniform instead.\n",
      "\n",
      "WARNING:tensorflow:From /Library/anaconda3/lib/python3.7/site-packages/keras/optimizers.py:757: The name tf.train.Optimizer is deprecated. Please use tf.compat.v1.train.Optimizer instead.\n",
      "\n"
     ]
    }
   ],
   "source": [
    "model = Sequential()\n",
    "model.add(Dense(50, input_dim=9, activation='relu'))\n",
    "model.add(Dense(100, activation='relu'))\n",
    "model.add(Dense(50, activation='relu'))\n",
    "model.add(Dense(1, activation='linear'))\n",
    "model.compile(loss=\"mean_squared_error\", optimizer=\"adam\")"
   ]
  },
  {
   "cell_type": "markdown",
   "metadata": {},
   "source": [
    "### Train the model"
   ]
  },
  {
   "cell_type": "code",
   "execution_count": 7,
   "metadata": {},
   "outputs": [
    {
     "name": "stdout",
     "output_type": "stream",
     "text": [
      "WARNING:tensorflow:From /Library/anaconda3/lib/python3.7/site-packages/keras/backend/tensorflow_backend.py:977: The name tf.assign_add is deprecated. Please use tf.compat.v1.assign_add instead.\n",
      "\n",
      "WARNING:tensorflow:From /Library/anaconda3/lib/python3.7/site-packages/keras/backend/tensorflow_backend.py:964: The name tf.assign is deprecated. Please use tf.compat.v1.assign instead.\n",
      "\n",
      "Epoch 1/50\n",
      " - 0s - loss: 0.0140\n",
      "Epoch 2/50\n",
      " - 0s - loss: 0.0023\n",
      "Epoch 3/50\n",
      " - 0s - loss: 8.6112e-04\n",
      "Epoch 4/50\n",
      " - 0s - loss: 5.1914e-04\n",
      "Epoch 5/50\n",
      " - 0s - loss: 3.7462e-04\n",
      "Epoch 6/50\n",
      " - 0s - loss: 2.3554e-04\n",
      "Epoch 7/50\n",
      " - 0s - loss: 1.8497e-04\n",
      "Epoch 8/50\n",
      " - 0s - loss: 1.3094e-04\n",
      "Epoch 9/50\n",
      " - 0s - loss: 1.2041e-04\n",
      "Epoch 10/50\n",
      " - 0s - loss: 1.0854e-04\n",
      "Epoch 11/50\n",
      " - 0s - loss: 7.7735e-05\n",
      "Epoch 12/50\n",
      " - 0s - loss: 6.4344e-05\n",
      "Epoch 13/50\n",
      " - 0s - loss: 5.6202e-05\n",
      "Epoch 14/50\n",
      " - 0s - loss: 4.6839e-05\n",
      "Epoch 15/50\n",
      " - 0s - loss: 4.3363e-05\n",
      "Epoch 16/50\n",
      " - 0s - loss: 4.7238e-05\n",
      "Epoch 17/50\n",
      " - 0s - loss: 3.7100e-05\n",
      "Epoch 18/50\n",
      " - 0s - loss: 3.4396e-05\n",
      "Epoch 19/50\n",
      " - 0s - loss: 3.3875e-05\n",
      "Epoch 20/50\n",
      " - 0s - loss: 3.2610e-05\n",
      "Epoch 21/50\n",
      " - 0s - loss: 2.9893e-05\n",
      "Epoch 22/50\n",
      " - 0s - loss: 2.6542e-05\n",
      "Epoch 23/50\n",
      " - 0s - loss: 3.0035e-05\n",
      "Epoch 24/50\n",
      " - 0s - loss: 3.0072e-05\n",
      "Epoch 25/50\n",
      " - 0s - loss: 2.7822e-05\n",
      "Epoch 26/50\n",
      " - 0s - loss: 2.1871e-05\n",
      "Epoch 27/50\n",
      " - 0s - loss: 2.1903e-05\n",
      "Epoch 28/50\n",
      " - 0s - loss: 2.3010e-05\n",
      "Epoch 29/50\n",
      " - 0s - loss: 2.1506e-05\n",
      "Epoch 30/50\n",
      " - 0s - loss: 2.3949e-05\n",
      "Epoch 31/50\n",
      " - 0s - loss: 3.0900e-05\n",
      "Epoch 32/50\n",
      " - 0s - loss: 3.2312e-05\n",
      "Epoch 33/50\n",
      " - 0s - loss: 4.5082e-05\n",
      "Epoch 34/50\n",
      " - 0s - loss: 2.2467e-05\n",
      "Epoch 35/50\n",
      " - 0s - loss: 2.0959e-05\n",
      "Epoch 36/50\n",
      " - 0s - loss: 2.8177e-05\n",
      "Epoch 37/50\n",
      " - 0s - loss: 2.2832e-05\n",
      "Epoch 38/50\n",
      " - 0s - loss: 2.7486e-05\n",
      "Epoch 39/50\n",
      " - 0s - loss: 3.6624e-05\n",
      "Epoch 40/50\n",
      " - 0s - loss: 5.0535e-05\n",
      "Epoch 41/50\n",
      " - 0s - loss: 4.0247e-05\n",
      "Epoch 42/50\n",
      " - 0s - loss: 2.9939e-05\n",
      "Epoch 43/50\n",
      " - 0s - loss: 3.1944e-05\n",
      "Epoch 44/50\n",
      " - 0s - loss: 3.2679e-05\n",
      "Epoch 45/50\n",
      " - 0s - loss: 2.5702e-05\n",
      "Epoch 46/50\n",
      " - 0s - loss: 2.2768e-05\n",
      "Epoch 47/50\n",
      " - 0s - loss: 2.5424e-05\n",
      "Epoch 48/50\n",
      " - 0s - loss: 2.9016e-05\n",
      "Epoch 49/50\n",
      " - 0s - loss: 2.5919e-05\n",
      "Epoch 50/50\n",
      " - 0s - loss: 2.2211e-05\n"
     ]
    },
    {
     "data": {
      "text/plain": [
       "<keras.callbacks.History at 0x1347e6358>"
      ]
     },
     "execution_count": 7,
     "metadata": {},
     "output_type": "execute_result"
    }
   ],
   "source": [
    "model.fit(\n",
    "    X,\n",
    "    Y,\n",
    "    epochs=50,\n",
    "    shuffle=True,\n",
    "    verbose=2\n",
    ")"
   ]
  },
  {
   "cell_type": "markdown",
   "metadata": {},
   "source": [
    "### Load the separate test data set"
   ]
  },
  {
   "cell_type": "code",
   "execution_count": 8,
   "metadata": {},
   "outputs": [
    {
     "name": "stdout",
     "output_type": "stream",
     "text": [
      "The mean squared error (MSE) for the test data set is: 9.47542442008853e-05\n"
     ]
    }
   ],
   "source": [
    "test_data_df = pd.read_csv(\"sales_data_testing_scaled.csv\")\n",
    "\n",
    "X_test = test_data_df.drop('total_earnings', axis=1).values\n",
    "Y_test = test_data_df[['total_earnings']].values\n",
    "\n",
    "test_error_rate = model.evaluate(X_test, Y_test, verbose=0)\n",
    "print(\"The mean squared error (MSE) for the test data set is: {}\".format(test_error_rate))"
   ]
  },
  {
   "cell_type": "markdown",
   "metadata": {},
   "source": [
    "### Save model on disk"
   ]
  },
  {
   "cell_type": "code",
   "execution_count": 11,
   "metadata": {},
   "outputs": [
    {
     "name": "stdout",
     "output_type": "stream",
     "text": [
      "Model saved to disk.\n"
     ]
    }
   ],
   "source": [
    "model.save(\"game_rating.h5\")\n",
    "print(\"Model saved to disk.\")"
   ]
  },
  {
   "cell_type": "markdown",
   "metadata": {},
   "source": [
    "### Relaod the data again "
   ]
  },
  {
   "cell_type": "code",
   "execution_count": 12,
   "metadata": {},
   "outputs": [
    {
     "name": "stdout",
     "output_type": "stream",
     "text": [
      "Model reloaded from disk.\n"
     ]
    }
   ],
   "source": [
    "loaded_model = load_model(\"game_rating.h5\") # reading back the model so that we can resuse\n",
    "print(\"Model reloaded from disk.\")"
   ]
  },
  {
   "cell_type": "markdown",
   "metadata": {},
   "source": [
    "### Load the data we make to use to make a prediction"
   ]
  },
  {
   "cell_type": "code",
   "execution_count": 14,
   "metadata": {},
   "outputs": [
    {
     "name": "stdout",
     "output_type": "stream",
     "text": [
      "Earnings Prediction for Proposed Product - $267094.1778757541\n"
     ]
    }
   ],
   "source": [
    "X = pd.read_csv(\"proposed_new_product.csv\").values\n",
    "\n",
    "# Make a prediction with the neural network\n",
    "prediction = loaded_model.predict(X)\n",
    "\n",
    "# Grab just the first element of the first prediction (since that's the only have one)\n",
    "prediction = prediction[0][0]\n",
    "\n",
    "# Re-scale the data from the 0-to-1 range back to dollars\n",
    "# These constants are from when the data was originally scaled down to the 0-to-1 range\n",
    "prediction = prediction + 0.1159\n",
    "prediction = prediction / 0.0000036968\n",
    "\n",
    "print(\"Earnings Prediction for Proposed Product - ${}\".format(prediction))"
   ]
  },
  {
   "cell_type": "code",
   "execution_count": null,
   "metadata": {},
   "outputs": [],
   "source": []
  }
 ],
 "metadata": {
  "kernelspec": {
   "display_name": "Python 3",
   "language": "python",
   "name": "python3"
  },
  "language_info": {
   "codemirror_mode": {
    "name": "ipython",
    "version": 3
   },
   "file_extension": ".py",
   "mimetype": "text/x-python",
   "name": "python",
   "nbconvert_exporter": "python",
   "pygments_lexer": "ipython3",
   "version": "3.7.3"
  }
 },
 "nbformat": 4,
 "nbformat_minor": 2
}
